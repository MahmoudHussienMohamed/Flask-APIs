{
  "cells": [
    {
      "cell_type": "markdown",
      "metadata": {
        "id": "view-in-github",
        "colab_type": "text"
      },
      "source": [
        "<a href=\"https://colab.research.google.com/github/MahmoudHussienMohamed/GitExpert/blob/main/FaceRecognitionAPI.ipynb\" target=\"_parent\"><img src=\"https://colab.research.google.com/assets/colab-badge.svg\" alt=\"Open In Colab\"/></a>"
      ]
    },
    {
      "cell_type": "markdown",
      "metadata": {
        "id": "aosWGFn2bClO"
      },
      "source": [
        "# **Install Ngrok and config the authtoken.**\n"
      ]
    },
    {
      "cell_type": "code",
      "execution_count": null,
      "metadata": {
        "colab": {
          "base_uri": "https://localhost:8080/"
        },
        "id": "Ry-XizFzaz3v",
        "outputId": "f4c0f2de-6801-445c-95c8-136fe6d1aac4"
      },
      "outputs": [
        {
          "name": "stdout",
          "output_type": "stream",
          "text": [
            "Looking in indexes: https://pypi.org/simple, https://us-python.pkg.dev/colab-wheels/public/simple/\n",
            "Collecting flask-ngrok\n",
            "  Downloading flask_ngrok-0.0.25-py3-none-any.whl (3.1 kB)\n",
            "Requirement already satisfied: Flask>=0.8 in /usr/local/lib/python3.7/dist-packages (from flask-ngrok) (1.1.4)\n",
            "Requirement already satisfied: requests in /usr/local/lib/python3.7/dist-packages (from flask-ngrok) (2.23.0)\n",
            "Requirement already satisfied: Werkzeug<2.0,>=0.15 in /usr/local/lib/python3.7/dist-packages (from Flask>=0.8->flask-ngrok) (1.0.1)\n",
            "Requirement already satisfied: click<8.0,>=5.1 in /usr/local/lib/python3.7/dist-packages (from Flask>=0.8->flask-ngrok) (7.1.2)\n",
            "Requirement already satisfied: Jinja2<3.0,>=2.10.1 in /usr/local/lib/python3.7/dist-packages (from Flask>=0.8->flask-ngrok) (2.11.3)\n",
            "Requirement already satisfied: itsdangerous<2.0,>=0.24 in /usr/local/lib/python3.7/dist-packages (from Flask>=0.8->flask-ngrok) (1.1.0)\n",
            "Requirement already satisfied: MarkupSafe>=0.23 in /usr/local/lib/python3.7/dist-packages (from Jinja2<3.0,>=2.10.1->Flask>=0.8->flask-ngrok) (2.0.1)\n",
            "Requirement already satisfied: chardet<4,>=3.0.2 in /usr/local/lib/python3.7/dist-packages (from requests->flask-ngrok) (3.0.4)\n",
            "Requirement already satisfied: urllib3!=1.25.0,!=1.25.1,<1.26,>=1.21.1 in /usr/local/lib/python3.7/dist-packages (from requests->flask-ngrok) (1.24.3)\n",
            "Requirement already satisfied: certifi>=2017.4.17 in /usr/local/lib/python3.7/dist-packages (from requests->flask-ngrok) (2022.6.15)\n",
            "Requirement already satisfied: idna<3,>=2.5 in /usr/local/lib/python3.7/dist-packages (from requests->flask-ngrok) (2.10)\n",
            "Installing collected packages: flask-ngrok\n",
            "Successfully installed flask-ngrok-0.0.25\n"
          ]
        }
      ],
      "source": [
        "!pip install flask-ngrok"
      ]
    },
    {
      "cell_type": "code",
      "execution_count": null,
      "metadata": {
        "colab": {
          "base_uri": "https://localhost:8080/"
        },
        "id": "wuMJFL8Hlxl7",
        "outputId": "ea5edd4f-5c5e-4aa2-84ed-49e0604a13e6"
      },
      "outputs": [
        {
          "name": "stdout",
          "output_type": "stream",
          "text": [
            "deb https://ngrok-agent.s3.amazonaws.com buster main\n",
            "Get:1 http://security.ubuntu.com/ubuntu bionic-security InRelease [88.7 kB]\n",
            "Hit:2 https://developer.download.nvidia.com/compute/cuda/repos/ubuntu1804/x86_64  InRelease\n",
            "Get:3 https://cloud.r-project.org/bin/linux/ubuntu bionic-cran40/ InRelease [3,626 B]\n",
            "Hit:4 http://ppa.launchpad.net/c2d4u.team/c2d4u4.0+/ubuntu bionic InRelease\n",
            "Hit:5 http://archive.ubuntu.com/ubuntu bionic InRelease\n",
            "Ign:6 https://developer.download.nvidia.com/compute/machine-learning/repos/ubuntu1804/x86_64  InRelease\n",
            "Hit:7 https://developer.download.nvidia.com/compute/machine-learning/repos/ubuntu1804/x86_64  Release\n",
            "Get:8 http://archive.ubuntu.com/ubuntu bionic-updates InRelease [88.7 kB]\n",
            "Hit:9 http://ppa.launchpad.net/cran/libgit2/ubuntu bionic InRelease\n",
            "Get:10 https://ngrok-agent.s3.amazonaws.com buster InRelease [20.3 kB]\n",
            "Get:11 http://security.ubuntu.com/ubuntu bionic-security/main amd64 Packages [2,867 kB]\n",
            "Hit:12 http://ppa.launchpad.net/deadsnakes/ppa/ubuntu bionic InRelease\n",
            "Get:13 http://archive.ubuntu.com/ubuntu bionic-backports InRelease [74.6 kB]\n",
            "Hit:14 http://ppa.launchpad.net/graphics-drivers/ppa/ubuntu bionic InRelease\n",
            "Get:16 https://ngrok-agent.s3.amazonaws.com buster/main amd64 Packages [1,262 B]\n",
            "Get:17 http://archive.ubuntu.com/ubuntu bionic-updates/restricted amd64 Packages [1,075 kB]\n",
            "Get:18 http://archive.ubuntu.com/ubuntu bionic-updates/universe amd64 Packages [2,298 kB]\n",
            "Get:19 http://archive.ubuntu.com/ubuntu bionic-updates/main amd64 Packages [3,298 kB]\n",
            "Fetched 9,814 kB in 3s (3,314 kB/s)\n",
            "Reading package lists... Done\n",
            "Building dependency tree       \n",
            "Reading state information... Done\n",
            "49 packages can be upgraded. Run 'apt list --upgradable' to see them.\n",
            "Reading package lists... Done\n",
            "Building dependency tree       \n",
            "Reading state information... Done\n",
            "The following package was automatically installed and is no longer required:\n",
            "  libnvidia-common-460\n",
            "Use 'sudo apt autoremove' to remove it.\n",
            "The following NEW packages will be installed:\n",
            "  ngrok\n",
            "0 upgraded, 1 newly installed, 0 to remove and 49 not upgraded.\n",
            "Need to get 5,464 kB of archives.\n",
            "After this operation, 0 B of additional disk space will be used.\n",
            "Get:1 https://ngrok-agent.s3.amazonaws.com buster/main amd64 ngrok amd64 3.0.6 [5,464 kB]\n",
            "Fetched 5,464 kB in 1s (5,239 kB/s)\n",
            "debconf: unable to initialize frontend: Dialog\n",
            "debconf: (No usable dialog-like program is installed, so the dialog based frontend cannot be used. at /usr/share/perl5/Debconf/FrontEnd/Dialog.pm line 76, <> line 1.)\n",
            "debconf: falling back to frontend: Readline\n",
            "debconf: unable to initialize frontend: Readline\n",
            "debconf: (This frontend requires a controlling tty.)\n",
            "debconf: falling back to frontend: Teletype\n",
            "dpkg-preconfigure: unable to re-open stdin: \n",
            "Selecting previously unselected package ngrok.\n",
            "(Reading database ... 155639 files and directories currently installed.)\n",
            "Preparing to unpack .../archives/ngrok_3.0.6_amd64.deb ...\n",
            "Unpacking ngrok (3.0.6) ...\n",
            "Setting up ngrok (3.0.6) ...\n"
          ]
        }
      ],
      "source": [
        "!curl -s https://ngrok-agent.s3.amazonaws.com/ngrok.asc | \\\n",
        "sudo tee /etc/apt/trusted.gpg.d/ngrok.asc >/dev/null && \\\n",
        "echo \"deb https://ngrok-agent.s3.amazonaws.com buster main\" | \\\n",
        "sudo tee /etc/apt/sources.list.d/ngrok.list && \\\n",
        "sudo apt update && sudo apt install ngrok"
      ]
    },
    {
      "cell_type": "code",
      "execution_count": null,
      "metadata": {
        "colab": {
          "base_uri": "https://localhost:8080/"
        },
        "id": "3JftIyTVa65W",
        "outputId": "bb2dceac-23eb-47fc-ed28-d26dabba2777"
      },
      "outputs": [
        {
          "name": "stdout",
          "output_type": "stream",
          "text": [
            "Authtoken saved to configuration file: /root/.config/ngrok/ngrok.yml\n"
          ]
        }
      ],
      "source": [
        "!ngrok authtoken <YourAuthToken>"
      ]
    },
    {
      "cell_type": "markdown",
      "metadata": {
        "id": "yqCnfxD6cFLF"
      },
      "source": [
        "# **Google Drive config**"
      ]
    },
    {
      "cell_type": "code",
      "execution_count": null,
      "metadata": {
        "colab": {
          "base_uri": "https://localhost:8080/"
        },
        "id": "2AOEBf39Q5dH",
        "outputId": "47b72f95-9073-41fd-f887-3b1e7cbbd15f"
      },
      "outputs": [
        {
          "name": "stdout",
          "output_type": "stream",
          "text": [
            "Mounted at /content/drive\n"
          ]
        }
      ],
      "source": [
        "from google.colab import drive\n",
        "drive.mount('/content/drive')"
      ]
    },
    {
      "cell_type": "markdown",
      "metadata": {
        "id": "tplizj1pc03X"
      },
      "source": [
        "# **Face Recognition stuff**"
      ]
    },
    {
      "cell_type": "code",
      "execution_count": null,
      "metadata": {
        "colab": {
          "base_uri": "https://localhost:8080/"
        },
        "id": "o4RdPzv6eX5w",
        "outputId": "40c62d53-a4e9-452f-b1ab-3249ba0a42fa"
      },
      "outputs": [
        {
          "name": "stdout",
          "output_type": "stream",
          "text": [
            "Looking in indexes: https://pypi.org/simple, https://us-python.pkg.dev/colab-wheels/public/simple/\n",
            "Collecting face-recognition\n",
            "  Downloading face_recognition-1.3.0-py2.py3-none-any.whl (15 kB)\n",
            "Requirement already satisfied: Click>=6.0 in /usr/local/lib/python3.7/dist-packages (from face-recognition) (7.1.2)\n",
            "Requirement already satisfied: dlib>=19.7 in /usr/local/lib/python3.7/dist-packages (from face-recognition) (19.18.0+zzzcolab20220513001918)\n",
            "Collecting face-recognition-models>=0.3.0\n",
            "  Downloading face_recognition_models-0.3.0.tar.gz (100.1 MB)\n",
            "\u001b[K     |████████████████████████████████| 100.1 MB 23 kB/s \n",
            "\u001b[?25hRequirement already satisfied: Pillow in /usr/local/lib/python3.7/dist-packages (from face-recognition) (7.1.2)\n",
            "Requirement already satisfied: numpy in /usr/local/lib/python3.7/dist-packages (from face-recognition) (1.21.6)\n",
            "Building wheels for collected packages: face-recognition-models\n",
            "  Building wheel for face-recognition-models (setup.py) ... \u001b[?25l\u001b[?25hdone\n",
            "  Created wheel for face-recognition-models: filename=face_recognition_models-0.3.0-py2.py3-none-any.whl size=100566186 sha256=0b1e658c19d6ae7af84037986a6f790de0eef2a0473c1d028ff9f9bc8f0fe7be\n",
            "  Stored in directory: /root/.cache/pip/wheels/d6/81/3c/884bcd5e1c120ff548d57c2ecc9ebf3281c9a6f7c0e7e7947a\n",
            "Successfully built face-recognition-models\n",
            "Installing collected packages: face-recognition-models, face-recognition\n",
            "Successfully installed face-recognition-1.3.0 face-recognition-models-0.3.0\n"
          ]
        }
      ],
      "source": [
        "!pip install face-recognition"
      ]
    },
    {
      "cell_type": "code",
      "execution_count": null,
      "metadata": {
        "id": "k9iQMH4dc5zO"
      },
      "outputs": [],
      "source": [
        "import face_recognition\n",
        "import json\n",
        "import numpy as np\n",
        "from PIL import Image\n",
        "\n",
        "class student:\n",
        "  def __init__(self, id, name, email, encoding):\n",
        "    self.id = id\n",
        "    self.name = name\n",
        "    self.email = email\n",
        "    self.face_encoding = encoding\n",
        "  def __str__(self):\n",
        "    return str(self.name) + ',' + str(self.id) + ',' + str(self.email)\n",
        "\n",
        "class NumpyEncoder(json.JSONEncoder):\n",
        "    \"\"\" Special json encoder for numpy types \"\"\"\n",
        "    def default(self, obj):\n",
        "        if isinstance(obj, (np.int_, np.intc, np.intp, np.int8,\n",
        "                            np.int16, np.int32, np.int64, np.uint8,\n",
        "                            np.uint16, np.uint32, np.uint64)):\n",
        "            return int(obj)\n",
        "        elif isinstance(obj, (np.float_, np.float16, np.float32,\n",
        "                              np.float64)):\n",
        "            return float(obj)\n",
        "        elif isinstance(obj, (np.ndarray,)):\n",
        "            return obj.tolist()\n",
        "   \n",
        "        return json.JSONEncoder.default(self, obj)\n",
        "\n",
        "def encoding_of(array):\n",
        "  locations = face_recognition.face_locations(array)\n",
        "  face_encoding = None\n",
        "  if len(locations) == 1:\n",
        "    face_encoding = face_recognition.face_encodings(array, known_face_locations = locations)[0]\n",
        "    return 'found-face-of-one-person', face_encoding\n",
        "  else:\n",
        "    return \"error-face-not-found-or-many-faces\", None    \n",
        "\n",
        "def check_one_encoding(exist_encodings, check_encoding): \n",
        "  results = face_recognition.compare_faces([check_encoding], exist_encodings)\n",
        "  return json.dumps(int(results[0]), cls = NumpyEncoder) # 0 for false and 1 for true"
      ]
    },
    {
      "cell_type": "markdown",
      "metadata": {
        "id": "I1NbtWX2dpUt"
      },
      "source": [
        "# **API**"
      ]
    },
    {
      "cell_type": "code",
      "execution_count": null,
      "metadata": {
        "colab": {
          "base_uri": "https://localhost:8080/"
        },
        "id": "sgT2dLnM0BoV",
        "outputId": "bdd16ef8-8b12-4d2e-f938-fe4733a7432a"
      },
      "outputs": [
        {
          "name": "stdout",
          "output_type": "stream",
          "text": [
            " * Serving Flask app \"__main__\" (lazy loading)\n",
            " * Environment: production\n",
            "\u001b[31m   WARNING: This is a development server. Do not use it in a production deployment.\u001b[0m\n",
            "\u001b[2m   Use a production WSGI server instead.\u001b[0m\n",
            " * Debug mode: off\n"
          ]
        },
        {
          "name": "stderr",
          "output_type": "stream",
          "text": [
            " * Running on http://127.0.0.1:5000/ (Press CTRL+C to quit)\n"
          ]
        },
        {
          "name": "stdout",
          "output_type": "stream",
          "text": [
            " * Running on http://1ef2-34-148-72-159.ngrok.io\n",
            " * Traffic stats available on http://127.0.0.1:4040\n"
          ]
        },
        {
          "name": "stderr",
          "output_type": "stream",
          "text": [
            "127.0.0.1 - - [01/Jul/2022 02:07:53] \"\u001b[37mPOST /register HTTP/1.1\u001b[0m\" 200 -\n",
            "127.0.0.1 - - [01/Jul/2022 02:07:57] \"\u001b[37mPOST /register HTTP/1.1\u001b[0m\" 200 -\n",
            "127.0.0.1 - - [01/Jul/2022 02:08:11] \"\u001b[37mPOST /register HTTP/1.1\u001b[0m\" 200 -\n",
            "127.0.0.1 - - [01/Jul/2022 02:08:21] \"\u001b[37mGET /check_if_exist HTTP/1.1\u001b[0m\" 200 -\n",
            "127.0.0.1 - - [01/Jul/2022 02:08:37] \"\u001b[37mGET /check_if_exist HTTP/1.1\u001b[0m\" 200 -\n",
            "127.0.0.1 - - [01/Jul/2022 02:08:37] \"\u001b[37mPOST /save_students HTTP/1.1\u001b[0m\" 200 -\n",
            "127.0.0.1 - - [01/Jul/2022 02:08:38] \"\u001b[37mGET /load_students HTTP/1.1\u001b[0m\" 200 -\n",
            "127.0.0.1 - - [01/Jul/2022 02:08:38] \"\u001b[37mPOST /new_session HTTP/1.1\u001b[0m\" 200 -\n",
            "127.0.0.1 - - [01/Jul/2022 02:08:39] \"\u001b[37mPOST /new_session HTTP/1.1\u001b[0m\" 200 -\n",
            "127.0.0.1 - - [01/Jul/2022 02:08:48] \"\u001b[37mPOST /record_attendance HTTP/1.1\u001b[0m\" 200 -\n",
            "127.0.0.1 - - [01/Jul/2022 02:08:53] \"\u001b[37mPOST /record_attendance HTTP/1.1\u001b[0m\" 200 -\n",
            "127.0.0.1 - - [01/Jul/2022 02:08:53] \"\u001b[37mGET /get_attendance HTTP/1.1\u001b[0m\" 200 -\n",
            "127.0.0.1 - - [01/Jul/2022 02:08:54] \"\u001b[37mGET /get_attendance HTTP/1.1\u001b[0m\" 200 -\n",
            "127.0.0.1 - - [01/Jul/2022 02:08:54] \"\u001b[37mPOST /delete_session HTTP/1.1\u001b[0m\" 200 -\n",
            "127.0.0.1 - - [01/Jul/2022 02:08:55] \"\u001b[37mPOST /delete_session HTTP/1.1\u001b[0m\" 200 -\n"
          ]
        }
      ],
      "source": [
        "import os\n",
        "from flask import Flask\n",
        "from flask_ngrok import run_with_ngrok\n",
        "from flask import request, jsonify\n",
        "import json\n",
        "from PIL import Image\n",
        "import pickle\n",
        "app = Flask(__name__)\n",
        "all_students=[]\n",
        "def_path = '/content/drive/MyDrive/FaceRecognition-API-Files/'\n",
        "\n",
        "def append_with_pickle(file_name, appendant):\n",
        "  if not os.path.exists(file_name):\n",
        "    with open(file_name, 'wb') as f:\n",
        "      pickle.dump(appendant, f)\n",
        "  else:\n",
        "    content = []\n",
        "    with open(file_name, 'rb') as f:\n",
        "      if os.stat(file_name).st_size > 0:\n",
        "        content = pickle.load(f)\n",
        "    content += appendant\n",
        "    with open(file_name, 'wb') as f:\n",
        "      pickle.dump(content, f)\n",
        "\n",
        "run_with_ngrok(app)\n",
        "\n",
        "@app.route('/', methods=['GET'])\n",
        "def index():\n",
        "    return jsonify({'FaceRecognition-API': \"Version 1.0\"})\n",
        "\n",
        "@app.route('/register', methods=[\"POST\"])\n",
        "def register():\n",
        "  if 'image' not in request.files :\n",
        "      return  jsonify({'error': \"error-key_notfound-sent-image_file\" })\n",
        "  file = request.files['image']\n",
        "  payload = request.form.to_dict(flat=False)\n",
        "  if 'student_id' not in payload :\n",
        "    return  jsonify({'error': \"error-key_notfound-sent-data-with-id\" })\n",
        "  if 'student_name' not in payload :\n",
        "    return  jsonify({'error': \"error-key_notfound-sent-data-with-name\" })\n",
        "  if 'student_email' not in payload :\n",
        "    return  jsonify({'error': \"error-key_notfound-sent-data-with-email\" })\n",
        "  img = Image.open(file.stream)\n",
        "  img = img.convert('RGB')\n",
        "  img=img.resize((256,256))\n",
        "  response, raw = encoding_of(np.array(img))\n",
        "  if(\"error\" in response):\n",
        "    return jsonify({'error': response })\n",
        "  else:\n",
        "    all_students.append(student(payload['student_id'][0],\n",
        "                                               payload['student_name'][0],\n",
        "                                               payload['student_email'][0],\n",
        "                                               raw))\n",
        "    return jsonify({'sucess': response})\n",
        "\n",
        "@app.route('/check_if_exist', methods=[\"GET\"])\n",
        "def check_if_exist():\n",
        "    if 'image' not in request.files :\n",
        "      return  jsonify({'error': \"error-key_notfound-sent-image_file\" })\n",
        "    file = request.files['image']\n",
        "    img = Image.open(file.stream)\n",
        "    img = img.convert('RGB')\n",
        "    response, raw = encoding_of(np.array(img))\n",
        "    if(\"error\" in response):\n",
        "      return jsonify({'error': response })\n",
        "    else:\n",
        "      people=[]\n",
        "      for i in all_students:\n",
        "        if check_one_encoding(i.face_encoding,raw)=='1':\n",
        "          people.append(str(i.id))\n",
        "      if len(people) > 0: \n",
        "        return jsonify({'results': people})\n",
        "      else:\n",
        "        return jsonify({'results': \"not-found\"}) \n",
        "\n",
        "@app.route('/save_students', methods=['POST'])\n",
        "def save():\n",
        "  append_with_pickle(def_path + 'all_students.pkl',\n",
        "                     all_students)\n",
        "  return jsonify({'success': \"done-file-saved\"})\n",
        "\n",
        "@app.route('/load_students', methods=['GET'])\n",
        "def load():\n",
        "    if os.path.exists(def_path + 'all_students.pkl'):\n",
        "      with open(def_path + 'all_students.pkl', 'rb') as f:\n",
        "        if os.stat(def_path + 'all_students.pkl').st_size > 0:\n",
        "          global all_students \n",
        "          all_students = pickle.load(f)\n",
        "          return jsonify({'success': \"done-file-loaded\"})\n",
        "        else:\n",
        "          return jsonify({'error': \"empty-file\"})\n",
        "    else:\n",
        "      return jsonify({'error': \"save-file-before-load\"})\n",
        "\n",
        "@app.route('/new_session', methods=['POST'])\n",
        "def create_session():\n",
        "  payload = request.form.to_dict(flat=False)\n",
        "  if 'course_id' not in payload :\n",
        "    return  jsonify({'error': \"error-key_notfound-sent-data-with-course_id\" })\n",
        "  if 'course_name' not in payload :\n",
        "    return  jsonify({'error': \"error-key_notfound-sent-data-with-course_name\" })\n",
        "  if 'session_no' not in payload :\n",
        "    return  jsonify({'error': \"error-key_notfound-sent-data-with-session_no\" })\n",
        "  file_name = def_path + payload['course_name'][0] + '-' + payload['course_id'][0] + '-' + payload['session_no'][0] + '.pkl'\n",
        "  if os.path.exists(file_name):\n",
        "    return jsonify({'error': \"course-already-created\"})\n",
        "  f = open(file_name, 'wb')\n",
        "  f.close()\n",
        "  return jsonify({'sucess': \"session_created\"})\n",
        "\n",
        "@app.route('/record_attendance', methods=['POST'])\n",
        "def record_attendance():\n",
        "  payload = request.form.to_dict(flat=False)\n",
        "  if 'image' not in request.files :\n",
        "      return  jsonify({'error': \"error-key_notfound-sent-image_file\" })\n",
        "  file = request.files['image']\n",
        "  if 'course_id' not in payload :\n",
        "    return  jsonify({'error': \"error-key_notfound-sent-data-with-course_id\" })\n",
        "  if 'course_name' not in payload :\n",
        "    return  jsonify({'error': \"error-key_notfound-sent-data-with-course_name\" })\n",
        "  if 'session_no' not in payload :\n",
        "    return  jsonify({'error': \"error-key_notfound-sent-data-with-session_no\" })\n",
        "  file_name = def_path + payload['course_name'][0] + '-' + payload['course_id'][0] + '-' + payload['session_no'][0] + '.pkl'\n",
        "  if os.path.exists(file_name):\n",
        "    file = request.files['image']\n",
        "    img = Image.open(file.stream)\n",
        "    img = img.convert('RGB')\n",
        "    response, raw = encoding_of(np.array(img))\n",
        "    for i in all_students:\n",
        "      if check_one_encoding(i.face_encoding, raw) == '1':\n",
        "        append_with_pickle(file_name, [i])\n",
        "        return jsonify({'success': f\"attendance-recorded-for-{i.id}\"})\n",
        "    return jsonify({'error' : \"not-registered\"})\n",
        "  return jsonify({'error': \"no-course-or-no-session-was-created-before\"})\n",
        "\n",
        "@app.route('/get_attendance', methods=['GET'])\n",
        "def get_attendance():\n",
        "  payload = request.form.to_dict(flat=False)\n",
        "  if 'course_id' not in payload :\n",
        "    return  jsonify({'error': \"error-key_notfound-sent-data-with-course_id\" })\n",
        "  if 'course_name' not in payload :\n",
        "    return  jsonify({'error': \"error-key_notfound-sent-data-with-course_name\" })\n",
        "  if 'session_no' not in payload :\n",
        "    return  jsonify({'error': \"error-key_notfound-sent-data-with-session_no\" })\n",
        "  file_name = def_path + payload['course_name'][0] + '-' + payload['course_id'][0] + '-' + payload['session_no'][0] + '.pkl'\n",
        "  if os.path.exists(file_name):\n",
        "    content = None\n",
        "    with open(file_name, 'rb') as f:\n",
        "      content = pickle.load(f)\n",
        "      content = [str(i) for i in content]\n",
        "      return jsonify({'success': content})\n",
        "  return jsonify({'error': \"no-course-or-no-session-was-created-before\"})\n",
        "\n",
        "@app.route('/delete_session', methods=['POST'])\n",
        "def delete_session():\n",
        "  payload = request.form.to_dict(flat=False)\n",
        "  if 'course_id' not in payload :\n",
        "    return  jsonify({'error': \"error-key_notfound-sent-data-with-course_id\" })\n",
        "  if 'course_name' not in payload :\n",
        "    return  jsonify({'error': \"error-key_notfound-sent-data-with-course_name\" })\n",
        "  if 'session_no' not in payload :\n",
        "    return  jsonify({'error': \"error-key_notfound-sent-data-with-session_no\" })\n",
        "  file_name = def_path + payload['course_name'][0] + '-' + payload['course_id'][0] + '-' + payload['session_no'][0] + '.pkl'\n",
        "  if os.path.exists(file_name):\n",
        "    os.remove(file_name)\n",
        "    return jsonify({'success' : f\"file-{payload['course_name'][0] + '-' + payload['course_id'][0] + '-' + payload['session_no'][0]}-deleted\"})\n",
        "  return jsonify({'error' : \"file-not-found\"})\n",
        "  \n",
        "app.run()"
      ]
    }
  ],
  "metadata": {
    "accelerator": "GPU",
    "colab": {
      "collapsed_sections": [],
      "name": "FaceRecognitionAPI.ipynb",
      "provenance": [],
      "include_colab_link": true
    },
    "gpuClass": "standard",
    "kernelspec": {
      "display_name": "Python 3.8.5 ('base')",
      "language": "python",
      "name": "python3"
    },
    "language_info": {
      "name": "python",
      "version": "3.8.5"
    },
    "vscode": {
      "interpreter": {
        "hash": "3b53d3ebc9ab588da17f6fff91cb07c6116aee8ae1f5ab3dcaac78344e70010d"
      }
    }
  },
  "nbformat": 4,
  "nbformat_minor": 0
}
