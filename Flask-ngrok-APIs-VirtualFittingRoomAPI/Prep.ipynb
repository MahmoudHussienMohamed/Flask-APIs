{
  "cells": [
    {
      "cell_type": "markdown",
      "metadata": {
        "id": "view-in-github",
        "colab_type": "text"
      },
      "source": [
        "<a href=\"https://colab.research.google.com/github/MahmoudHussienMohamed/Flask-ngrok-APIs/blob/VirtualFittingRoomAPI/Prep.ipynb\" target=\"_parent\"><img src=\"https://colab.research.google.com/assets/colab-badge.svg\" alt=\"Open In Colab\"/></a>"
      ]
    },
    {
      "cell_type": "code",
      "execution_count": null,
      "metadata": {
        "colab": {
          "base_uri": "https://localhost:8080/"
        },
        "id": "i3V5PRdg43cw",
        "outputId": "42593f1c-a771-4cb4-fe42-d66a310eb10b"
      },
      "outputs": [
        {
          "name": "stdout",
          "output_type": "stream",
          "text": [
            "Mounted at /content/drive/\n"
          ]
        }
      ],
      "source": [
        "from google.colab import drive\n",
        "drive.mount('/content/drive/')"
      ]
    },
    {
      "cell_type": "code",
      "execution_count": null,
      "metadata": {
        "colab": {
          "base_uri": "https://localhost:8080/"
        },
        "id": "mVePG2tX5GFQ",
        "outputId": "4f4e4995-1a54-48cc-8f51-eb901def9068"
      },
      "outputs": [
        {
          "name": "stdout",
          "output_type": "stream",
          "text": [
            "/content/drive/MyDrive/ACGPN-API-Files\n",
            "Cloning into 'ACGPN'...\n",
            "remote: Enumerating objects: 161, done.\u001b[K\n",
            "remote: Counting objects: 100% (161/161), done.\u001b[K\n",
            "remote: Compressing objects: 100% (139/139), done.\u001b[K\n",
            "remote: Total 161 (delta 61), reused 84 (delta 17), pack-reused 0\u001b[K\n",
            "Receiving objects: 100% (161/161), 303.18 KiB | 3.48 MiB/s, done.\n",
            "Resolving deltas: 100% (61/61), done.\n",
            "/content/drive/MyDrive/ACGPN-API-Files/ACGPN\n"
          ]
        }
      ],
      "source": [
        "%cd /content/drive/MyDrive/ACGPN-API-Files\n",
        "!git clone https://github.com/levindabhi/ACGPN.git\n",
        "%cd ACGPN"
      ]
    },
    {
      "cell_type": "code",
      "execution_count": null,
      "metadata": {
        "id": "TvqJJ2iN5Ga-"
      },
      "outputs": [],
      "source": [
        "import gdown\n",
        "import numpy as np\n",
        "from PIL import Image\n",
        "import IPython\n",
        "import gdown\n",
        "import os\n",
        "import sys\n",
        "from predict_pose import generate_pose_keypoints"
      ]
    },
    {
      "cell_type": "code",
      "execution_count": null,
      "metadata": {
        "id": "WiNsAPss5GfP"
      },
      "outputs": [],
      "source": [
        "!mkdir Data_preprocessing/test_color\n",
        "!mkdir Data_preprocessing/test_colormask\n",
        "!mkdir Data_preprocessing/test_edge\n",
        "!mkdir Data_preprocessing/test_img\n",
        "!mkdir Data_preprocessing/test_label\n",
        "!mkdir Data_preprocessing/test_mask\n",
        "!mkdir Data_preprocessing/test_pose\n",
        "!mkdir inputs\n",
        "!mkdir inputs/img\n",
        "!mkdir inputs/cloth"
      ]
    },
    {
      "cell_type": "code",
      "execution_count": null,
      "metadata": {
        "colab": {
          "base_uri": "https://localhost:8080/"
        },
        "id": "LVAg3OLy5GjI",
        "outputId": "23139455-2161-476d-d6ca-6d6f16e83167"
      },
      "outputs": [
        {
          "name": "stdout",
          "output_type": "stream",
          "text": [
            "/content/drive/MyDrive/ACGPN-API-Files/ACGPN/pose\n",
            "/usr/local/lib/python3.7/dist-packages/gdown/cli.py:131: FutureWarning: Option `--id` was deprecated in version 4.3.1 and will be removed in 5.0. You don't need to pass it anymore to use a file ID.\n",
            "  category=FutureWarning,\n",
            "Downloading...\n",
            "From: https://drive.google.com/uc?id=1hOHMFHEjhoJuLEQY0Ndurn5hfiA9mwko\n",
            "To: /content/drive/MyDrive/ACGPN-API-Files/ACGPN/pose/pose_iter_440000.caffemodel\n",
            "100% 209M/209M [00:01<00:00, 184MB/s]\n",
            "/content/drive/MyDrive/ACGPN-API-Files/ACGPN\n"
          ]
        }
      ],
      "source": [
        "%cd pose\n",
        "!gdown --id 1hOHMFHEjhoJuLEQY0Ndurn5hfiA9mwko\n",
        "%cd .."
      ]
    },
    {
      "cell_type": "code",
      "execution_count": null,
      "metadata": {
        "colab": {
          "base_uri": "https://localhost:8080/"
        },
        "id": "eTNnhk_V5Gmm",
        "outputId": "230d27fb-f193-44d4-aca3-b03e5ac5ecc1"
      },
      "outputs": [
        {
          "name": "stdout",
          "output_type": "stream",
          "text": [
            "Cloning into 'Self-Correction-Human-Parsing-for-ACGPN'...\n",
            "remote: Enumerating objects: 769, done.\u001b[K\n",
            "remote: Total 769 (delta 0), reused 0 (delta 0), pack-reused 769\u001b[K\n",
            "Receiving objects: 100% (769/769), 3.81 MiB | 7.72 MiB/s, done.\n",
            "Resolving deltas: 100% (175/175), done.\n",
            "Checking out files: 100% (546/546), done.\n",
            "Cloning into 'U-2-Net'...\n",
            "remote: Enumerating objects: 822, done.\u001b[K\n",
            "remote: Total 822 (delta 0), reused 0 (delta 0), pack-reused 822\u001b[K\n",
            "Receiving objects: 100% (822/822), 30.72 MiB | 13.40 MiB/s, done.\n",
            "Resolving deltas: 100% (379/379), done.\n",
            "Checking out files: 100% (173/173), done.\n"
          ]
        }
      ],
      "source": [
        "!git clone https://github.com/levindabhi/Self-Correction-Human-Parsing-for-ACGPN.git\n",
        "!git clone https://github.com/levindabhi/U-2-Net.git"
      ]
    },
    {
      "cell_type": "code",
      "execution_count": null,
      "metadata": {
        "colab": {
          "base_uri": "https://localhost:8080/",
          "height": 105
        },
        "id": "ZsR6vszu5GqG",
        "outputId": "67832273-01b3-4bf1-cd5f-6b7086dd5933"
      },
      "outputs": [
        {
          "name": "stderr",
          "output_type": "stream",
          "text": [
            "Downloading...\n",
            "From: https://drive.google.com/uc?id=1k4dllHpu0bdx38J7H28rVVLpU-kOHmnH\n",
            "To: /content/drive/MyDrive/ACGPN-API-Files/ACGPN/lip_final.pth\n",
            "100%|██████████| 267M/267M [00:01<00:00, 217MB/s]\n"
          ]
        },
        {
          "data": {
            "application/vnd.google.colaboratory.intrinsic+json": {
              "type": "string"
            },
            "text/plain": [
              "'lip_final.pth'"
            ]
          },
          "execution_count": 18,
          "metadata": {},
          "output_type": "execute_result"
        }
      ],
      "source": [
        "#for segmentation mask generation\n",
        "url = 'https://drive.google.com/uc?id=1k4dllHpu0bdx38J7H28rVVLpU-kOHmnH'\n",
        "output = 'lip_final.pth'\n",
        "gdown.download(url, output, quiet=False)"
      ]
    },
    {
      "cell_type": "code",
      "execution_count": null,
      "metadata": {
        "colab": {
          "base_uri": "https://localhost:8080/"
        },
        "id": "WrziGV4H5Gtu",
        "outputId": "a9896a67-c647-4853-9e56-ec5b050614e3"
      },
      "outputs": [
        {
          "name": "stdout",
          "output_type": "stream",
          "text": [
            "/content/drive/MyDrive/ACGPN-API-Files/ACGPN/U-2-Net\n",
            "mkdir: cannot create directory ‘saved_models’: File exists\n",
            "/usr/local/lib/python3.7/dist-packages/gdown/cli.py:131: FutureWarning: Option `--id` was deprecated in version 4.3.1 and will be removed in 5.0. You don't need to pass it anymore to use a file ID.\n",
            "  category=FutureWarning,\n",
            "Downloading...\n",
            "From: https://drive.google.com/uc?id=1rbSTGKAE-MTxBYHd-51l2hMOQPT_7EPy\n",
            "To: /content/drive/MyDrive/ACGPN-API-Files/ACGPN/U-2-Net/saved_models/u2netp/u2netp.pth\n",
            "100% 4.68M/4.68M [00:00<00:00, 216MB/s]\n",
            "/usr/local/lib/python3.7/dist-packages/gdown/cli.py:131: FutureWarning: Option `--id` was deprecated in version 4.3.1 and will be removed in 5.0. You don't need to pass it anymore to use a file ID.\n",
            "  category=FutureWarning,\n",
            "Downloading...\n",
            "From: https://drive.google.com/uc?id=1ao1ovG1Qtx4b7EoskHXmi2E9rp5CHLcZ\n",
            "To: /content/drive/MyDrive/ACGPN-API-Files/ACGPN/U-2-Net/saved_models/u2net/u2net.pth\n",
            "100% 176M/176M [00:00<00:00, 204MB/s]\n",
            "...load U2NEP---4.7 MB\n",
            "/content/drive/MyDrive/ACGPN-API-Files/ACGPN\n"
          ]
        }
      ],
      "source": [
        "%cd U-2-Net\n",
        "!mkdir saved_models\n",
        "!mkdir saved_models/u2net\n",
        "!mkdir saved_models/u2netp\n",
        "!gdown --id 1rbSTGKAE-MTxBYHd-51l2hMOQPT_7EPy -O saved_models/u2netp/u2netp.pth\n",
        "!gdown --id 1ao1ovG1Qtx4b7EoskHXmi2E9rp5CHLcZ -O saved_models/u2net/u2net.pth\n",
        "import u2net_load\n",
        "import u2net_run\n",
        "u2net = u2net_load.model(model_name = 'u2netp')\n",
        "%cd .."
      ]
    },
    {
      "cell_type": "code",
      "execution_count": null,
      "metadata": {
        "colab": {
          "base_uri": "https://localhost:8080/"
        },
        "id": "3kPY2HfU5Gxm",
        "outputId": "9637ffdd-e50e-4dca-c16f-608c37d0a0d4"
      },
      "outputs": [
        {
          "name": "stderr",
          "output_type": "stream",
          "text": [
            "Downloading...\n",
            "From: https://drive.google.com/uc?id=1UWT6esQIU_d4tUm8cjxDKMhB8joQbrFx\n",
            "To: /content/drive/MyDrive/ACGPN-API-Files/ACGPN/checkpoints/ACGPN_checkpoints.zip\n",
            "100%|██████████| 524M/524M [00:04<00:00, 124MB/s] \n"
          ]
        },
        {
          "name": "stdout",
          "output_type": "stream",
          "text": [
            "/content/drive/MyDrive/ACGPN-API-Files/ACGPN/checkpoints\n",
            "Archive:  ACGPN_checkpoints.zip\n",
            "   creating: label2city/\n",
            "  inflating: label2city/latest_net_G.pth  \n",
            "  inflating: label2city/latest_net_G1.pth  \n",
            "  inflating: label2city/latest_net_G2.pth  \n",
            "  inflating: label2city/latest_net_U.pth  \n",
            "  inflating: label2city/opt.txt      \n",
            "/content/drive/MyDrive/ACGPN-API-Files/ACGPN\n"
          ]
        }
      ],
      "source": [
        "!mkdir checkpoints\n",
        "gdown.download('https://drive.google.com/uc?id=1UWT6esQIU_d4tUm8cjxDKMhB8joQbrFx',output='checkpoints/ACGPN_checkpoints.zip', quiet=False)\n",
        "%cd checkpoints\n",
        "!unzip ACGPN_checkpoints\n",
        "%cd .."
      ]
    },
    {
      "cell_type": "code",
      "execution_count": null,
      "metadata": {
        "colab": {
          "base_uri": "https://localhost:8080/"
        },
        "id": "fQyIqAxq6hKt",
        "outputId": "1739a788-d55c-4f38-b78a-bba71613c8ce"
      },
      "outputs": [
        {
          "name": "stdout",
          "output_type": "stream",
          "text": [
            "  % Total    % Received % Xferd  Average Speed   Time    Time     Time  Current\n",
            "                                 Dload  Upload   Total   Spent    Left  Speed\n",
            "100 13.1M  100 13.1M    0     0  4850k      0  0:00:02  0:00:02 --:--:-- 4852k\n",
            "Archive:  ngrok.zip\n",
            "  inflating: ngrok                   \n",
            "Authtoken saved to configuration file: /root/.ngrok2/ngrok.yml\n"
          ]
        }
      ],
      "source": [
        "!curl -L https://bin.equinox.io/c/4VmDzA7iaHb/ngrok-stable-linux-amd64.zip -o ngrok.zip\n",
        "!unzip ngrok.zip\n",
        "!chmod +x ngrok\n",
        "!./ngrok authtoken <YourAuthToken>"
      ]
    }
  ],
  "metadata": {
    "accelerator": "GPU",
    "colab": {
      "name": "ACGPN_APIv2.ipynb",
      "provenance": [],
      "include_colab_link": true
    },
    "gpuClass": "standard",
    "kernelspec": {
      "display_name": "Python 3.8.5 ('base')",
      "language": "python",
      "name": "python3"
    },
    "language_info": {
      "name": "python",
      "version": "3.8.5"
    },
    "vscode": {
      "interpreter": {
        "hash": "3b53d3ebc9ab588da17f6fff91cb07c6116aee8ae1f5ab3dcaac78344e70010d"
      }
    }
  },
  "nbformat": 4,
  "nbformat_minor": 0
}
