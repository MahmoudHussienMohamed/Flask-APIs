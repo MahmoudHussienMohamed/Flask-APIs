{
  "cells": [
    {
      "cell_type": "markdown",
      "metadata": {
        "id": "view-in-github",
        "colab_type": "text"
      },
      "source": [
        "<a href=\"https://colab.research.google.com/github/MahmoudHussienMohamed/Flask-ngrok-APIs/blob/VirtualFittingRoomAPI/ACGPN_APIv2.ipynb\" target=\"_parent\"><img src=\"https://colab.research.google.com/assets/colab-badge.svg\" alt=\"Open In Colab\"/></a>"
      ]
    },
    {
      "cell_type": "code",
      "execution_count": null,
      "metadata": {
        "id": "i3V5PRdg43cw",
        "colab": {
          "base_uri": "https://localhost:8080/"
        },
        "outputId": "2be7607a-6a2f-40a2-a9d4-b1715d8a5733"
      },
      "outputs": [
        {
          "output_type": "stream",
          "name": "stdout",
          "text": [
            "Mounted at /content/drive/\n"
          ]
        }
      ],
      "source": [
        "from google.colab import drive\n",
        "drive.mount('/content/drive/')"
      ]
    },
    {
      "cell_type": "code",
      "execution_count": null,
      "metadata": {
        "id": "mVePG2tX5GFQ",
        "colab": {
          "base_uri": "https://localhost:8080/"
        },
        "outputId": "344f63d4-e696-4c49-b8b2-3e7e176a78ed"
      },
      "outputs": [
        {
          "output_type": "stream",
          "name": "stdout",
          "text": [
            "/content/drive/.shortcut-targets-by-id/10Nut25hcbPBd9RKDpSY4ntS-3LgnABBW/ACGPN-API-Files/ACGPN\n"
          ]
        }
      ],
      "source": [
        "%cd /content/drive/MyDrive/ACGPN-API-Files/ACGPN"
      ]
    },
    {
      "cell_type": "code",
      "execution_count": null,
      "metadata": {
        "id": "dRZPfHf05GUu",
        "colab": {
          "base_uri": "https://localhost:8080/"
        },
        "outputId": "54183348-4fa9-4907-c5c2-4a1d2b110e53"
      },
      "outputs": [
        {
          "output_type": "stream",
          "name": "stdout",
          "text": [
            "Looking in indexes: https://pypi.org/simple, https://us-python.pkg.dev/colab-wheels/public/simple/\n",
            "Collecting ninja\n",
            "  Downloading ninja-1.10.2.3-py2.py3-none-manylinux_2_5_x86_64.manylinux1_x86_64.whl (108 kB)\n",
            "\u001b[K     |████████████████████████████████| 108 kB 32.5 MB/s \n",
            "\u001b[?25hInstalling collected packages: ninja\n",
            "Successfully installed ninja-1.10.2.3\n",
            "Looking in indexes: https://pypi.org/simple, https://us-python.pkg.dev/colab-wheels/public/simple/\n",
            "Requirement already satisfied: flask in /usr/local/lib/python3.7/dist-packages (1.1.4)\n",
            "Requirement already satisfied: Werkzeug<2.0,>=0.15 in /usr/local/lib/python3.7/dist-packages (from flask) (1.0.1)\n",
            "Requirement already satisfied: Jinja2<3.0,>=2.10.1 in /usr/local/lib/python3.7/dist-packages (from flask) (2.11.3)\n",
            "Requirement already satisfied: itsdangerous<2.0,>=0.24 in /usr/local/lib/python3.7/dist-packages (from flask) (1.1.0)\n",
            "Requirement already satisfied: click<8.0,>=5.1 in /usr/local/lib/python3.7/dist-packages (from flask) (7.1.2)\n",
            "Requirement already satisfied: MarkupSafe>=0.23 in /usr/local/lib/python3.7/dist-packages (from Jinja2<3.0,>=2.10.1->flask) (2.0.1)\n",
            "Looking in indexes: https://pypi.org/simple, https://us-python.pkg.dev/colab-wheels/public/simple/\n",
            "Collecting flask_ngrok\n",
            "  Downloading flask_ngrok-0.0.25-py3-none-any.whl (3.1 kB)\n",
            "Requirement already satisfied: Flask>=0.8 in /usr/local/lib/python3.7/dist-packages (from flask_ngrok) (1.1.4)\n",
            "Requirement already satisfied: requests in /usr/local/lib/python3.7/dist-packages (from flask_ngrok) (2.23.0)\n",
            "Requirement already satisfied: Jinja2<3.0,>=2.10.1 in /usr/local/lib/python3.7/dist-packages (from Flask>=0.8->flask_ngrok) (2.11.3)\n",
            "Requirement already satisfied: click<8.0,>=5.1 in /usr/local/lib/python3.7/dist-packages (from Flask>=0.8->flask_ngrok) (7.1.2)\n",
            "Requirement already satisfied: Werkzeug<2.0,>=0.15 in /usr/local/lib/python3.7/dist-packages (from Flask>=0.8->flask_ngrok) (1.0.1)\n",
            "Requirement already satisfied: itsdangerous<2.0,>=0.24 in /usr/local/lib/python3.7/dist-packages (from Flask>=0.8->flask_ngrok) (1.1.0)\n",
            "Requirement already satisfied: MarkupSafe>=0.23 in /usr/local/lib/python3.7/dist-packages (from Jinja2<3.0,>=2.10.1->Flask>=0.8->flask_ngrok) (2.0.1)\n",
            "Requirement already satisfied: urllib3!=1.25.0,!=1.25.1,<1.26,>=1.21.1 in /usr/local/lib/python3.7/dist-packages (from requests->flask_ngrok) (1.24.3)\n",
            "Requirement already satisfied: idna<3,>=2.5 in /usr/local/lib/python3.7/dist-packages (from requests->flask_ngrok) (2.10)\n",
            "Requirement already satisfied: certifi>=2017.4.17 in /usr/local/lib/python3.7/dist-packages (from requests->flask_ngrok) (2022.6.15)\n",
            "Requirement already satisfied: chardet<4,>=3.0.2 in /usr/local/lib/python3.7/dist-packages (from requests->flask_ngrok) (3.0.4)\n",
            "Installing collected packages: flask-ngrok\n",
            "Successfully installed flask-ngrok-0.0.25\n"
          ]
        }
      ],
      "source": [
        "!pip install ninja\n",
        "!pip install flask\n",
        "!pip install flask_ngrok"
      ]
    },
    {
      "cell_type": "code",
      "execution_count": null,
      "metadata": {
        "id": "TvqJJ2iN5Ga-"
      },
      "outputs": [],
      "source": [
        "import gdown\n",
        "import numpy as np\n",
        "from PIL import Image\n",
        "import IPython\n",
        "import gdown\n",
        "import os\n",
        "import sys\n",
        "from predict_pose import generate_pose_keypoints"
      ]
    },
    {
      "cell_type": "code",
      "execution_count": null,
      "metadata": {
        "id": "WrziGV4H5Gtu",
        "colab": {
          "base_uri": "https://localhost:8080/"
        },
        "outputId": "1ec02c0c-ae98-45d0-acca-3733321b0f20"
      },
      "outputs": [
        {
          "output_type": "stream",
          "name": "stdout",
          "text": [
            "/content/drive/.shortcut-targets-by-id/10Nut25hcbPBd9RKDpSY4ntS-3LgnABBW/ACGPN-API-Files/ACGPN/U-2-Net\n",
            "...load U2NEP---4.7 MB\n",
            "/content/drive/.shortcut-targets-by-id/10Nut25hcbPBd9RKDpSY4ntS-3LgnABBW/ACGPN-API-Files/ACGPN\n"
          ]
        }
      ],
      "source": [
        "%cd U-2-Net\n",
        "import u2net_load\n",
        "import u2net_run\n",
        "u2net = u2net_load.model(model_name = 'u2netp')\n",
        "%cd .."
      ]
    },
    {
      "cell_type": "code",
      "execution_count": null,
      "metadata": {
        "id": "xI_SCZcN5G03",
        "colab": {
          "base_uri": "https://localhost:8080/"
        },
        "outputId": "8d96045d-3836-482c-9d19-ec2e5990e26f"
      },
      "outputs": [
        {
          "output_type": "stream",
          "name": "stdout",
          "text": [
            "deb https://ngrok-agent.s3.amazonaws.com buster main\n",
            "Get:1 https://developer.download.nvidia.com/compute/cuda/repos/ubuntu1804/x86_64  InRelease [1,581 B]\n",
            "Get:2 https://cloud.r-project.org/bin/linux/ubuntu bionic-cran40/ InRelease [3,626 B]\n",
            "Get:3 https://cloud.r-project.org/bin/linux/ubuntu bionic-cran40/ Packages [85.6 kB]\n",
            "Get:4 http://ppa.launchpad.net/c2d4u.team/c2d4u4.0+/ubuntu bionic InRelease [15.9 kB]\n",
            "Ign:5 https://developer.download.nvidia.com/compute/machine-learning/repos/ubuntu1804/x86_64  InRelease\n",
            "Get:6 https://developer.download.nvidia.com/compute/cuda/repos/ubuntu1804/x86_64  Packages [824 kB]\n",
            "Hit:7 https://developer.download.nvidia.com/compute/machine-learning/repos/ubuntu1804/x86_64  Release\n",
            "Hit:8 http://archive.ubuntu.com/ubuntu bionic InRelease\n",
            "Get:10 http://security.ubuntu.com/ubuntu bionic-security InRelease [88.7 kB]\n",
            "Get:11 http://archive.ubuntu.com/ubuntu bionic-updates InRelease [88.7 kB]\n",
            "Get:12 https://ngrok-agent.s3.amazonaws.com buster InRelease [20.3 kB]\n",
            "Hit:13 http://ppa.launchpad.net/cran/libgit2/ubuntu bionic InRelease\n",
            "Get:14 https://ngrok-agent.s3.amazonaws.com buster/main amd64 Packages [1,262 B]\n",
            "Get:15 http://ppa.launchpad.net/deadsnakes/ppa/ubuntu bionic InRelease [15.9 kB]\n",
            "Get:16 http://archive.ubuntu.com/ubuntu bionic-backports InRelease [74.6 kB]\n",
            "Get:17 http://security.ubuntu.com/ubuntu bionic-security/universe amd64 Packages [1,527 kB]\n",
            "Hit:18 http://ppa.launchpad.net/graphics-drivers/ppa/ubuntu bionic InRelease\n",
            "Get:19 http://archive.ubuntu.com/ubuntu bionic-updates/universe amd64 Packages [2,306 kB]\n",
            "Get:20 http://ppa.launchpad.net/c2d4u.team/c2d4u4.0+/ubuntu bionic/main Sources [2,075 kB]\n",
            "Get:21 http://ppa.launchpad.net/c2d4u.team/c2d4u4.0+/ubuntu bionic/main amd64 Packages [1,063 kB]\n",
            "Get:22 http://ppa.launchpad.net/deadsnakes/ppa/ubuntu bionic/main amd64 Packages [45.3 kB]\n",
            "Get:23 http://security.ubuntu.com/ubuntu bionic-security/main amd64 Packages [2,901 kB]\n",
            "Get:24 http://archive.ubuntu.com/ubuntu bionic-updates/restricted amd64 Packages [1,107 kB]\n",
            "Get:25 http://archive.ubuntu.com/ubuntu bionic-updates/main amd64 Packages [3,336 kB]\n",
            "Get:26 http://security.ubuntu.com/ubuntu bionic-security/restricted amd64 Packages [1,063 kB]\n",
            "Fetched 16.6 MB in 22s (748 kB/s)\n",
            "Reading package lists... Done\n",
            "Building dependency tree       \n",
            "Reading state information... Done\n",
            "71 packages can be upgraded. Run 'apt list --upgradable' to see them.\n",
            "Reading package lists... Done\n",
            "Building dependency tree       \n",
            "Reading state information... Done\n",
            "The following package was automatically installed and is no longer required:\n",
            "  libnvidia-common-460\n",
            "Use 'sudo apt autoremove' to remove it.\n",
            "The following NEW packages will be installed:\n",
            "  ngrok\n",
            "0 upgraded, 1 newly installed, 0 to remove and 71 not upgraded.\n",
            "Need to get 5,464 kB of archives.\n",
            "After this operation, 0 B of additional disk space will be used.\n",
            "Get:1 https://ngrok-agent.s3.amazonaws.com buster/main amd64 ngrok amd64 3.0.6 [5,464 kB]\n",
            "Fetched 5,464 kB in 2s (2,604 kB/s)\n",
            "debconf: unable to initialize frontend: Dialog\n",
            "debconf: (No usable dialog-like program is installed, so the dialog based frontend cannot be used. at /usr/share/perl5/Debconf/FrontEnd/Dialog.pm line 76, <> line 1.)\n",
            "debconf: falling back to frontend: Readline\n",
            "debconf: unable to initialize frontend: Readline\n",
            "debconf: (This frontend requires a controlling tty.)\n",
            "debconf: falling back to frontend: Teletype\n",
            "dpkg-preconfigure: unable to re-open stdin: \n",
            "Selecting previously unselected package ngrok.\n",
            "(Reading database ... 155653 files and directories currently installed.)\n",
            "Preparing to unpack .../archives/ngrok_3.0.6_amd64.deb ...\n",
            "Unpacking ngrok (3.0.6) ...\n",
            "Setting up ngrok (3.0.6) ...\n"
          ]
        }
      ],
      "source": [
        "!curl -s https://ngrok-agent.s3.amazonaws.com/ngrok.asc | \\\n",
        "sudo tee /etc/apt/trusted.gpg.d/ngrok.asc >/dev/null && \\\n",
        "echo \"deb https://ngrok-agent.s3.amazonaws.com buster main\" | \\\n",
        "sudo tee /etc/apt/sources.list.d/ngrok.list && \\\n",
        "sudo apt update && sudo apt install ngrok"
      ]
    },
    {
      "cell_type": "code",
      "execution_count": null,
      "metadata": {
        "id": "fQyIqAxq6hKt",
        "colab": {
          "base_uri": "https://localhost:8080/"
        },
        "outputId": "00a49187-cdbe-456d-9a2f-e4ff53f6823e"
      },
      "outputs": [
        {
          "output_type": "stream",
          "name": "stdout",
          "text": [
            "/bin/bash: ./ngrok: Permission denied\n"
          ]
        }
      ],
      "source": [
        "# !curl -L https://bin.equinox.io/c/4VmDzA7iaHb/ngrok-stable-linux-amd64.zip -o ngrok.zip\n",
        "# !unzip ngrok.zip\n",
        "# !chmod +x ngrok\n",
        "!./ngrok authtoken <YourAuthToken>"
      ]
    },
    {
      "cell_type": "code",
      "execution_count": null,
      "metadata": {
        "id": "FNo6pMZ66hXE",
        "colab": {
          "base_uri": "https://localhost:8080/"
        },
        "outputId": "27e04496-5545-4c3e-e3d9-a83b3a901574"
      },
      "outputs": [
        {
          "output_type": "stream",
          "name": "stdout",
          "text": [
            " * Serving Flask app \"__main__\" (lazy loading)\n",
            " * Environment: production\n",
            "\u001b[31m   WARNING: This is a development server. Do not use it in a production deployment.\u001b[0m\n",
            "\u001b[2m   Use a production WSGI server instead.\u001b[0m\n",
            " * Debug mode: off\n"
          ]
        },
        {
          "output_type": "stream",
          "name": "stderr",
          "text": [
            " * Running on http://127.0.0.1:5000/ (Press CTRL+C to quit)\n"
          ]
        },
        {
          "output_type": "stream",
          "name": "stdout",
          "text": [
            " * Running on http://e88a-35-198-244-100.ngrok.io\n",
            " * Traffic stats available on http://127.0.0.1:4040\n",
            "Generating mask for: 000001_1.png\n",
            "Saving output at Data_preprocessing/test_edge/000001_1.png\n",
            "File saved at Data_preprocessing/test_pose/000001_0_keypoints.json\n"
          ]
        },
        {
          "output_type": "stream",
          "name": "stderr",
          "text": [
            "127.0.0.1 - - [27/Jul/2022 23:46:16] \"\u001b[37mPOST /apply HTTP/1.1\u001b[0m\" 200 -\n"
          ]
        },
        {
          "output_type": "stream",
          "name": "stdout",
          "text": [
            "Generating mask for: 000001_1.png\n",
            "Saving output at Data_preprocessing/test_edge/000001_1.png\n",
            "File saved at Data_preprocessing/test_pose/000001_0_keypoints.json\n"
          ]
        },
        {
          "output_type": "stream",
          "name": "stderr",
          "text": [
            "127.0.0.1 - - [27/Jul/2022 23:48:03] \"\u001b[37mPOST /apply HTTP/1.1\u001b[0m\" 200 -\n"
          ]
        },
        {
          "output_type": "stream",
          "name": "stdout",
          "text": [
            "Generating mask for: 000001_1.png\n",
            "Saving output at Data_preprocessing/test_edge/000001_1.png\n",
            "File saved at Data_preprocessing/test_pose/000001_0_keypoints.json\n"
          ]
        },
        {
          "output_type": "stream",
          "name": "stderr",
          "text": [
            "127.0.0.1 - - [27/Jul/2022 23:49:26] \"\u001b[37mPOST /apply HTTP/1.1\u001b[0m\" 200 -\n"
          ]
        },
        {
          "output_type": "stream",
          "name": "stdout",
          "text": [
            "Generating mask for: 000001_1.png\n",
            "Saving output at Data_preprocessing/test_edge/000001_1.png\n",
            "File saved at Data_preprocessing/test_pose/000001_0_keypoints.json\n"
          ]
        },
        {
          "output_type": "stream",
          "name": "stderr",
          "text": [
            "127.0.0.1 - - [27/Jul/2022 23:54:44] \"\u001b[37mPOST /apply HTTP/1.1\u001b[0m\" 200 -\n"
          ]
        },
        {
          "output_type": "stream",
          "name": "stdout",
          "text": [
            "Generating mask for: 000001_1.png\n",
            "Saving output at Data_preprocessing/test_edge/000001_1.png\n",
            "File saved at Data_preprocessing/test_pose/000001_0_keypoints.json\n"
          ]
        },
        {
          "output_type": "stream",
          "name": "stderr",
          "text": [
            "127.0.0.1 - - [27/Jul/2022 23:56:00] \"\u001b[37mPOST /apply HTTP/1.1\u001b[0m\" 200 -\n"
          ]
        },
        {
          "output_type": "stream",
          "name": "stdout",
          "text": [
            "Generating mask for: 000001_1.png\n",
            "Saving output at Data_preprocessing/test_edge/000001_1.png\n",
            "File saved at Data_preprocessing/test_pose/000001_0_keypoints.json\n"
          ]
        },
        {
          "output_type": "stream",
          "name": "stderr",
          "text": [
            "127.0.0.1 - - [27/Jul/2022 23:56:55] \"\u001b[37mPOST /apply HTTP/1.1\u001b[0m\" 200 -\n"
          ]
        },
        {
          "output_type": "stream",
          "name": "stdout",
          "text": [
            "Generating mask for: 000001_1.png\n",
            "Saving output at Data_preprocessing/test_edge/000001_1.png\n",
            "File saved at Data_preprocessing/test_pose/000001_0_keypoints.json\n"
          ]
        },
        {
          "output_type": "stream",
          "name": "stderr",
          "text": [
            "127.0.0.1 - - [27/Jul/2022 23:59:27] \"\u001b[37mPOST /apply HTTP/1.1\u001b[0m\" 200 -\n"
          ]
        },
        {
          "output_type": "stream",
          "name": "stdout",
          "text": [
            "Generating mask for: 000001_1.png\n",
            "Saving output at Data_preprocessing/test_edge/000001_1.png\n",
            "File saved at Data_preprocessing/test_pose/000001_0_keypoints.json\n"
          ]
        },
        {
          "output_type": "stream",
          "name": "stderr",
          "text": [
            "127.0.0.1 - - [28/Jul/2022 00:00:42] \"\u001b[37mPOST /apply HTTP/1.1\u001b[0m\" 200 -\n"
          ]
        },
        {
          "output_type": "stream",
          "name": "stdout",
          "text": [
            "Generating mask for: 000001_1.png\n",
            "Saving output at Data_preprocessing/test_edge/000001_1.png\n",
            "File saved at Data_preprocessing/test_pose/000001_0_keypoints.json\n"
          ]
        },
        {
          "output_type": "stream",
          "name": "stderr",
          "text": [
            "127.0.0.1 - - [28/Jul/2022 00:02:15] \"\u001b[37mPOST /apply HTTP/1.1\u001b[0m\" 200 -\n"
          ]
        },
        {
          "output_type": "stream",
          "name": "stdout",
          "text": [
            "Generating mask for: 000001_1.png\n",
            "Saving output at Data_preprocessing/test_edge/000001_1.png\n",
            "File saved at Data_preprocessing/test_pose/000001_0_keypoints.json\n"
          ]
        },
        {
          "output_type": "stream",
          "name": "stderr",
          "text": [
            "127.0.0.1 - - [28/Jul/2022 00:05:25] \"\u001b[37mPOST /apply HTTP/1.1\u001b[0m\" 200 -\n"
          ]
        },
        {
          "output_type": "stream",
          "name": "stdout",
          "text": [
            "Generating mask for: 000001_1.png\n",
            "Saving output at Data_preprocessing/test_edge/000001_1.png\n",
            "File saved at Data_preprocessing/test_pose/000001_0_keypoints.json\n"
          ]
        },
        {
          "output_type": "stream",
          "name": "stderr",
          "text": [
            "127.0.0.1 - - [28/Jul/2022 00:05:49] \"\u001b[37mPOST /apply HTTP/1.1\u001b[0m\" 200 -\n"
          ]
        },
        {
          "output_type": "stream",
          "name": "stdout",
          "text": [
            "Generating mask for: 000001_1.png\n",
            "Saving output at Data_preprocessing/test_edge/000001_1.png\n",
            "File saved at Data_preprocessing/test_pose/000001_0_keypoints.json\n"
          ]
        },
        {
          "output_type": "stream",
          "name": "stderr",
          "text": [
            "127.0.0.1 - - [28/Jul/2022 00:06:09] \"\u001b[37mPOST /apply HTTP/1.1\u001b[0m\" 200 -\n"
          ]
        },
        {
          "output_type": "stream",
          "name": "stdout",
          "text": [
            "Generating mask for: 000001_1.png\n",
            "Saving output at Data_preprocessing/test_edge/000001_1.png\n",
            "File saved at Data_preprocessing/test_pose/000001_0_keypoints.json\n"
          ]
        },
        {
          "output_type": "stream",
          "name": "stderr",
          "text": [
            "127.0.0.1 - - [28/Jul/2022 00:06:31] \"\u001b[37mPOST /apply HTTP/1.1\u001b[0m\" 200 -\n"
          ]
        }
      ],
      "source": [
        "from flask import Flask, send_file\n",
        "from flask_ngrok import run_with_ngrok\n",
        "from flask import request, jsonify\n",
        "import json\n",
        "import base64\n",
        "from io import BytesIO\n",
        "\n",
        "app = Flask(__name__)\n",
        "run_with_ngrok(app)\n",
        "@app.route('/', methods=['GET'])\n",
        "def index():\n",
        "    return jsonify({'VirtualFittingRoom-API': \"Version 1.0\"})\n",
        "\n",
        "\n",
        "\n",
        "@app.route('/apply', methods=['POST'])\n",
        "def apply():\n",
        "  if 'person_image' not in request.files :\n",
        "      return  jsonify({'error': \"error-key_notfound-person_image\" })\n",
        "  if 'clothing_image' not in request.files :\n",
        "      return  jsonify({'error': \"error-key_notfound-clothing_image\" })\n",
        "  \n",
        "  clothing_img = request.files['clothing_image']\n",
        "  clothing_img = Image.open(clothing_img.stream)\n",
        "  clothing_img = clothing_img.resize((500, 667), Image.BICUBIC).convert('RGB')\n",
        "  clothing_img.save(os.path.join('Data_preprocessing/test_color', '000001_1.png'))\n",
        "  u2net_run.infer(u2net, 'Data_preprocessing/test_color', 'Data_preprocessing/test_edge')\n",
        "\n",
        "  person_img = request.files['person_image']\n",
        "  person_img_name = '000001_0.png'\n",
        "  person_img = Image.open(person_img.stream)\n",
        "  person_img.save('inputs/img/000001_0.png')\n",
        "  person_img_path = os.path.join('inputs/img', sorted(os.listdir('inputs/img'))[0])\n",
        "  person_img = person_img.resize((500,667), Image.BICUBIC)\n",
        "  person_img.save(os.path.join('Data_preprocessing/test_img', person_img_name))\n",
        "  \n",
        "  os.system(\"python3 Self-Correction-Human-Parsing-for-ACGPN/simple_extractor.py --dataset 'lip' --model-restore 'lip_final.pth' --input-dir 'Data_preprocessing/test_img' --output-dir 'Data_preprocessing/test_label'\")\n",
        "  pose_path = os.path.join('Data_preprocessing/test_pose', person_img_name.replace('.png', '_keypoints.json'))\n",
        "  generate_pose_keypoints(person_img_path, pose_path)\n",
        "  os.system(\"rm -rf Data_preprocessing/test_pairs.txt\")\n",
        "  with open('Data_preprocessing/test_pairs.txt','w') as f:\n",
        "      f.write('000001_0.png 000001_1.png')\n",
        "  os.system(\"python test.py\")\n",
        "  img = Image.open('results/test/try-on/000001_0.png') \n",
        "  buff = BytesIO()\n",
        "  img.save(buff, format=\"PNG\")\n",
        "  img_str = base64.b64encode(buff.getvalue()).decode('ascii')\n",
        "  return jsonify({'result' : str(img_str)})\n",
        "  \n",
        "@app.route('/clean', methods=['POST'])\n",
        "def clean():\n",
        "  os.system(\"rm -rf Data_preprocessing/test_color/*\")\n",
        "  os.system(\"rm -rf Data_preprocessing/test_colormask/*\")\n",
        "  os.system(\"rm -rf Data_preprocessing/test_edge/*\")\n",
        "  os.system(\"rm -rf Data_preprocessing/test_img/*\")\n",
        "  os.system(\"rm -rf Data_preprocessing/test_label/*\")\n",
        "  os.system(\"rm -rf Data_preprocessing/test_mask/*\")\n",
        "  os.system(\"rm -rf Data_preprocessing/test_pose/*\")\n",
        "  os.system(\"rm -rf inputs/cloth/*\")\n",
        "  os.system(\"rm -rf inputs/img/*\")\n",
        "  os.system(\"rm -rf results/*\")\n",
        "  return jsonify({\"sucess\" : \"Cleaned\"})\n",
        "\n",
        "app.run()"
      ]
    }
  ],
  "metadata": {
    "accelerator": "GPU",
    "colab": {
      "collapsed_sections": [],
      "name": "ACGPN-APIv2.ipynb",
      "provenance": [],
      "include_colab_link": true
    },
    "gpuClass": "standard",
    "kernelspec": {
      "display_name": "Python 3",
      "name": "python3"
    },
    "language_info": {
      "name": "python"
    }
  },
  "nbformat": 4,
  "nbformat_minor": 0
}
